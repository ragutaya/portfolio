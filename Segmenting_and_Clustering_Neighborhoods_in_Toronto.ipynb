{
 "cells": [
  {
   "cell_type": "code",
   "execution_count": 1,
   "metadata": {},
   "outputs": [],
   "source": [
    "#Importing necessary packages\n",
    "from bs4 import BeautifulSoup\n",
    "import requests\n",
    "import pandas as pd\n",
    "import numpy as np\n",
    "import folium"
   ]
  },
  {
   "cell_type": "markdown",
   "metadata": {},
   "source": [
    "## Problem #1\n",
    "#### Use pandas, or the BeautifulSoup package, or any other way you are comfortable with to transform the data in the table on the Wikipedia page into the above pandas dataframe.\n",
    "<br>\n",
    "<body>Answer: To address problem 1 the following procedures will be performed:\n",
    "    <ol>\n",
    "        <li>Use Beautiful Soup to scrape data from web</li>\n",
    "        <li>Use Pandas and Numpy cleanse and present the data</li>\n",
    "    </ol>\n",
    "</body>"
   ]
  },
  {
   "cell_type": "code",
   "execution_count": 3,
   "metadata": {},
   "outputs": [],
   "source": [
    "#Assign the URL to a variable\n",
    "PageLink = 'https://en.wikipedia.org/wiki/List_of_postal_codes_of_Canada:_M'\n",
    "\n",
    "#Use request library to obtain the data from URL link. Websource is a response object\n",
    "WebSource = requests.get(PageLink, timeout = 5).text\n",
    "#html = WebSource.content\n",
    "\n",
    "#Parse the data from the URL, in the example below we parse it using 'lxml'\n",
    "Data = BeautifulSoup(WebSource, 'lxml')"
   ]
  },
  {
   "cell_type": "code",
   "execution_count": 4,
   "metadata": {},
   "outputs": [],
   "source": [
    "#Extract the HTML code enclosed in <Table>\n",
    "Table = Data.table"
   ]
  },
  {
   "cell_type": "markdown",
   "metadata": {},
   "source": [
    "#### Extract column headers in Table HTML tag and covert to Pandas dataframe"
   ]
  },
  {
   "cell_type": "code",
   "execution_count": 5,
   "metadata": {},
   "outputs": [
    {
     "data": {
      "text/plain": [
       "['', 'Postcode', 'Borough', 'Neighbourhood', '']"
      ]
     },
     "execution_count": 5,
     "metadata": {},
     "output_type": "execute_result"
    }
   ],
   "source": [
    "#Extract text enclosed in <tr> tag to serve as column headers\n",
    "tHeaders = Table.find('tr').text\n",
    "\n",
    "#Use '\\n' as delimiters to split text which also converts to list\n",
    "Headers = tHeaders.split('\\n')\n",
    "\n",
    "Headers"
   ]
  },
  {
   "cell_type": "code",
   "execution_count": 6,
   "metadata": {},
   "outputs": [
    {
     "data": {
      "text/html": [
       "<div>\n",
       "<style scoped>\n",
       "    .dataframe tbody tr th:only-of-type {\n",
       "        vertical-align: middle;\n",
       "    }\n",
       "\n",
       "    .dataframe tbody tr th {\n",
       "        vertical-align: top;\n",
       "    }\n",
       "\n",
       "    .dataframe thead th {\n",
       "        text-align: right;\n",
       "    }\n",
       "</style>\n",
       "<table border=\"1\" class=\"dataframe\">\n",
       "  <thead>\n",
       "    <tr style=\"text-align: right;\">\n",
       "      <th></th>\n",
       "      <th>Postcode</th>\n",
       "      <th>Borough</th>\n",
       "      <th>Neighbourhood</th>\n",
       "    </tr>\n",
       "  </thead>\n",
       "  <tbody>\n",
       "  </tbody>\n",
       "</table>\n",
       "</div>"
      ],
      "text/plain": [
       "Empty DataFrame\n",
       "Columns: [Postcode, Borough, Neighbourhood]\n",
       "Index: []"
      ]
     },
     "execution_count": 6,
     "metadata": {},
     "output_type": "execute_result"
    }
   ],
   "source": [
    "#Convert Headers list to Pandas dataframe and drop the empty columns\n",
    "dfTable = pd.DataFrame(columns = Headers)\n",
    "dfTable = dfTable.drop(columns = '')\n",
    "\n",
    "dfTable"
   ]
  },
  {
   "cell_type": "markdown",
   "metadata": {},
   "source": [
    "#### Extract data in  td HTML tag, cleanse, and covert to Pandas dataframe"
   ]
  },
  {
   "cell_type": "code",
   "execution_count": 7,
   "metadata": {},
   "outputs": [
    {
     "data": {
      "text/plain": [
       "'[<td>M1A</td>, <td>Not assigned</td>, <td>Not assigned\\n</td>, <td>M2A</td>, <td>Not assigned</td>, <td>Not assigned\\n</td>, <td>M3A</td>, <td><a href=\"/wiki/North_York\" title=\"North York\">North York</a></td>, <td><a href=\"/wiki/Parkwoods\" title=\"Parkwoods\">Parkwoods</a>\\n</td>, <td>M4A</td>, <td><a href=\"/wiki/North_York\" title=\"North York\">North York</a></td>, <td><a href=\"/wiki/Victoria_Village\" title=\"Victoria Village\">Victoria Village</a>\\n</td>, <td>M5A</td>, <td><a href=\"/wiki/Downtown_Toronto\" title=\"Downtown Toronto\">Downtown Toronto</a></td>, <td><a href=\"/wiki/Regent_Park\" title=\"Regent Park\">Harbourfront</a>\\n</td>, <td>M6A</td>, <td><a href=\"/wiki/North_York\" title=\"North York\">North York</a></td>, <td><a href=\"/wiki/Lawrence_Heights\" title=\"Lawrence Heights\">Lawrence Heights</a>\\n</td>, <td>M6A</td>, <td><a href=\"/wiki/North_York\" title=\"North York\">North York</a></td>, <td><a href=\"/wiki/Lawrence_Manor\" title=\"Lawrence Manor\">Lawrence Manor</a>\\n</td>, <td>M7A</td>, <td><a href=\"/wiki/Queen%27s_Park_(Toronto)\" title=\"Queen\\'s Park (Toronto)\">Queen\\'s Park</a></td>, <td>Not assigned\\n</td>, <td>M8A</td>, <td>Not assigned</td>, <td>Not assigned\\n</td>, <td>M9A</td>, <td><a href=\"/wiki/Downtown_Toronto\" title=\"Downtown Toronto\">Downtown Toronto</a></td>, <td><a href=\"/wiki/Queen%27s_Park_(Toronto)\" title=\"Queen\\'s Park (Toronto)\">Queen\\'s Park</a>\\n</td>, <td>M1B</td>, <td><a href=\"/wiki/Scarborough,_Toronto\" title=\"Scarborough, Toronto\">Scarborough</a></td>, <td><a href=\"/wiki/Rouge,_Toronto\" title=\"Rouge, Toronto\">Rouge</a>\\n</td>, <td>M1B</td>, <td><a href=\"/wiki/Scarborough,_Toronto\" title=\"Scarborough, Toronto\">Scarborough</a></td>, <td><a href=\"/wiki/Malvern,_Toronto\" title=\"Malvern, Toronto\">Malvern</a>\\n</td>, <td>M2B</td>, <td>Not assigned</td>, <td>Not assigned\\n</td>, <td>M3B</td>, <td><a href=\"/wiki/North_York\" title=\"North York\">North York</a></td>, <td>Don Mills North\\n</td>, <td>M4B</td>, <td><a href=\"/wiki/East_York\" title=\"East York\">East York</a></td>, <td><a class=\"mw-redirect\" href=\"/wiki/Woodbine_Gardens\" title=\"Woodbine Gardens\">Woodbine Gardens</a>\\n</td>, <td>M4B</td>, <td><a href=\"/wiki/East_York\" title=\"East York\">East York</a></td>, <td><a class=\"mw-redirect\" href=\"/wiki/Parkview_Hill\" title=\"Parkview Hill\">Parkview Hill</a>\\n</td>, <td>M5B</td>, <td><a href=\"/wiki/Downtown_Toronto\" title=\"Downtown Toronto\">Downtown Toronto</a></td>, <td>Ryerson\\n</td>, <td>M5B</td>, <td><a href=\"/wiki/Downtown_Toronto\" title=\"Downtown Toronto\">Downtown Toronto</a></td>, <td>Garden District\\n</td>, <td>M6B</td>, <td><a href=\"/wiki/North_York\" title=\"North York\">North York</a></td>, <td>Glencairn\\n</td>, <td>M7B</td>, <td>Not assigned</td>, <td>Not assigned\\n</td>, <td>M8B</td>, <td>Not assigned</td>, <td>Not assigned\\n</td>, <td>M9B</td>, <td><a href=\"/wiki/Etobicoke\" title=\"Etobicoke\">Etobicoke</a></td>, <td>Cloverdale\\n</td>, <td>M9B</td>, <td><a href=\"/wiki/Etobicoke\" title=\"Etobicoke\">Etobicoke</a></td>, <td><a class=\"mw-redirect\" href=\"/wiki/Islington,_Toronto\" title=\"Islington, Toronto\">Islington</a>\\n</td>, <td>M9B</td>, <td><a href=\"/wiki/Etobicoke\" title=\"Etobicoke\">Etobicoke</a></td>, <td>Martin Grove\\n</td>, <td>M9B</td>, <td><a href=\"/wiki/Etobicoke\" title=\"Etobicoke\">Etobicoke</a></td>, <td><a href=\"/wiki/Princess_Gardens\" title=\"Princess Gardens\">Princess Gardens</a>\\n</td>, <td>M9B</td>, <td><a href=\"/wiki/Etobicoke\" title=\"Etobicoke\">Etobicoke</a></td>, <td><a class=\"mw-redirect\" href=\"/wiki/West_Deane_Park\" title=\"West Deane Park\">West Deane Park</a>\\n</td>, <td>M1C</td>, <td><a href=\"/wiki/Scarborough,_Toronto\" title=\"Scarborough, Toronto\">Scarborough</a></td>, <td><a href=\"/wiki/Highland_Creek_(Toronto)\" title=\"Highland Creek (Toronto)\">Highland Creek</a>\\n</td>, <td>M1C</td>, <td><a href=\"/wiki/Scarborough,_Toronto\" title=\"Scarborough, Toronto\">Scarborough</a></td>, <td><a class=\"mw-redirect\" href=\"/wiki/Rouge_Hill\" title=\"Rouge Hill\">Rouge Hill</a>\\n</td>, <td>M1C</td>, <td><a href=\"/wiki/Scarborough,_Toronto\" title=\"Scarborough, Toronto\">Scarborough</a></td>, <td><a href=\"/wiki/Port_Union,_Toronto\" title=\"Port Union, Toronto\">Port Union</a>\\n</td>, <td>M2C</td>, <td>Not assigned</td>, <td>Not assigned\\n</td>, <td>M3C</td>, <td><a href=\"/wiki/North_York\" title=\"North York\">North York</a></td>, <td><a href=\"/wiki/Flemingdon_Park\" title=\"Flemingdon Park\">Flemingdon Park</a>\\n</td>, <td>M3C</td>, <td><a href=\"/wiki/North_York\" title=\"North York\">North York</a></td>, <td>Don Mills South\\n</td>, <td>M4C</td>, <td><a href=\"/wiki/East_York\" title=\"East York\">East York</a></td>, <td><a class=\"mw-redirect\" href=\"/wiki/Woodbine_Heights\" title=\"Woodbine Heights\">Woodbine Heights</a>\\n</td>, <td>M5C</td>, <td><a href=\"/wiki/Downtown_Toronto\" title=\"Downtown Toronto\">Downtown Toronto</a></td>, <td><a href=\"/wiki/St._James_Town\" title=\"St. James Town\">St. James Town</a>\\n</td>, <td>M6C</td>, <td>York</td>, <td><a class=\"mw-redirect\" href=\"/wiki/Humewood-Cedarvale\" title=\"Humewood-Cedarvale\">Humewood-Cedarvale</a>\\n</td>, <td>M7C</td>, <td>Not assigned</td>, <td>Not assigned\\n</td>, <td>M8C</td>, <td>Not assigned</td>, <td>Not assigned\\n</td>, <td>M9C</td>, <td><a href=\"/wiki/Etobicoke\" title=\"Etobicoke\">Etobicoke</a></td>, <td>Bloordale Gardens\\n</td>, <td>M9C</td>, <td><a href=\"/wiki/Etobicoke\" title=\"Etobicoke\">Etobicoke</a></td>, <td>Eringate\\n</td>, <td>M9C</td>, <td><a href=\"/wiki/Etobicoke\" title=\"Etobicoke\">Etobicoke</a></td>, <td><a href=\"/wiki/Markland_Wood\" title=\"Markland Wood\">Markland Wood</a>\\n</td>, <td>M9C</td>, <td><a href=\"/wiki/Etobicoke\" title=\"Etobicoke\">Etobicoke</a></td>, <td>Old Burnhamthorpe\\n</td>, <td>M1E</td>, <td><a href=\"/wiki/Scarborough,_Toronto\" title=\"Scarborough, Toronto\">Scarborough</a></td>, <td>Guildwood\\n</td>, <td>M1E</td>, <td><a href=\"/wiki/Scarborough,_Toronto\" title=\"Scarborough, Toronto\">Scarborough</a></td>, <td><a href=\"/wiki/Morningside,_Toronto\" title=\"Morningside, Toronto\">Morningside</a>\\n</td>, <td>M1E</td>, <td><a href=\"/wiki/Scarborough,_Toronto\" title=\"Scarborough, Toronto\">Scarborough</a></td>, <td><a href=\"/wiki/West_Hill,_Toronto\" title=\"West Hill, Toronto\">West Hill</a>\\n</td>, <td>M2E</td>, <td>Not assigned</td>, <td>Not assigned\\n</td>, <td>M3E</td>, <td>Not assigned</td>, <td>Not assigned\\n</td>, <td>M4E</td>, <td><a href=\"/wiki/East_Toronto\" title=\"East Toronto\">East Toronto</a></td>, <td><a href=\"/wiki/The_Beaches\" title=\"The Beaches\">The Beaches</a>\\n</td>, <td>M5E</td>, <td><a href=\"/wiki/Downtown_Toronto\" title=\"Downtown Toronto\">Downtown Toronto</a></td>, <td><a href=\"/wiki/Berczy_Park\" title=\"Berczy Park\">Berczy Park</a>\\n</td>, <td>M6E</td>, <td>York</td>, <td>Caledonia-Fairbanks\\n</td>, <td>M7E</td>, <td>Not assigned</td>, <td>Not assigned\\n</td>, <td>M8E</td>, <td>Not assigned</td>, <td>Not assigned\\n</td>, <td>M9E</td>, <td>Not assigned</td>, <td>Not assigned\\n</td>, <td>M1G</td>, <td><a href=\"/wiki/Scarborough,_Toronto\" title=\"Scarborough, Toronto\">Scarborough</a></td>, <td><a href=\"/wiki/Woburn,_Toronto\" title=\"Woburn, Toronto\">Woburn</a>\\n</td>, <td>M2G</td>, <td>Not assigned</td>, <td>Not assigned\\n</td>, <td>M3G</td>, <td>Not assigned</td>, <td>Not assigned\\n</td>, <td>M4G</td>, <td><a href=\"/wiki/East_York\" title=\"East York\">East York</a></td>, <td><a href=\"/wiki/Leaside\" title=\"Leaside\">Leaside</a>\\n</td>, <td>M5G</td>, <td><a href=\"/wiki/Downtown_Toronto\" title=\"Downtown Toronto\">Downtown Toronto</a></td>, <td>Central Bay Street\\n</td>, <td>M6G</td>, <td><a href=\"/wiki/Downtown_Toronto\" title=\"Downtown Toronto\">Downtown Toronto</a></td>, <td>Christie\\n</td>, <td>M7G</td>, <td>Not assigned</td>, <td>Not assigned\\n</td>, <td>M8G</td>, <td>Not assigned</td>, <td>Not assigned\\n</td>, <td>M9G</td>, <td>Not assigned</td>, <td>Not assigned\\n</td>, <td>M1H</td>, <td><a href=\"/wiki/Scarborough,_Toronto\" title=\"Scarborough, Toronto\">Scarborough</a></td>, <td>Cedarbrae\\n</td>, <td>M2H</td>, <td><a href=\"/wiki/North_York\" title=\"North York\">North York</a></td>, <td><a href=\"/wiki/Hillcrest_Village\" title=\"Hillcrest Village\">Hillcrest Village</a>\\n</td>, <td>M3H</td>, <td><a href=\"/wiki/North_York\" title=\"North York\">North York</a></td>, <td><a href=\"/wiki/Bathurst_Manor\" title=\"Bathurst Manor\">Bathurst Manor</a>\\n</td>, <td>M3H</td>, <td><a href=\"/wiki/North_York\" title=\"North York\">North York</a></td>, <td>Downsview North\\n</td>, <td>M3H</td>, <td><a href=\"/wiki/North_York\" title=\"North York\">North York</a></td>, <td><a class=\"mw-redirect\" href=\"/wiki/Wilson_Heights,_Toronto\" title=\"Wilson Heights, Toronto\">Wilson Heights</a>\\n</td>, <td>M4H</td>, <td><a href=\"/wiki/East_York\" title=\"East York\">East York</a></td>, <td><a href=\"/wiki/Thorncliffe_Park\" title=\"Thorncliffe Park\">Thorncliffe Park</a>\\n</td>, <td>M5H</td>, <td><a href=\"/wiki/Downtown_Toronto\" title=\"Downtown Toronto\">Downtown Toronto</a></td>, <td>Adelaide\\n</td>, <td>M5H</td>, <td><a href=\"/wiki/Downtown_Toronto\" title=\"Downtown Toronto\">Downtown Toronto</a></td>, <td>King\\n</td>, <td>M5H</td>, <td><a href=\"/wiki/Downtown_Toronto\" title=\"Downtown Toronto\">Downtown Toronto</a></td>, <td>Richmond\\n</td>, <td>M6H</td>, <td><a href=\"/wiki/West_Toronto\" title=\"West Toronto\">West Toronto</a></td>, <td><a class=\"mw-redirect\" href=\"/wiki/Dovercourt_Village\" title=\"Dovercourt Village\">Dovercourt Village</a>\\n</td>, <td>M6H</td>, <td><a href=\"/wiki/West_Toronto\" title=\"West Toronto\">West Toronto</a></td>, <td>Dufferin\\n</td>, <td>M7H</td>, <td>Not assigned</td>, <td>Not assigned\\n</td>, <td>M8H</td>, <td>Not assigned</td>, <td>Not assigned\\n</td>, <td>M9H</td>, <td>Not assigned</td>, <td>Not assigned\\n</td>, <td>M1J</td>, <td><a href=\"/wiki/Scarborough,_Toronto\" title=\"Scarborough, Toronto\">Scarborough</a></td>, <td><a href=\"/wiki/Scarborough_Village\" title=\"Scarborough Village\">Scarborough Village</a>\\n</td>, <td>M2J</td>, <td><a href=\"/wiki/North_York\" title=\"North York\">North York</a></td>, <td>Fairview\\n</td>, <td>M2J</td>, <td><a href=\"/wiki/North_York\" title=\"North York\">North York</a></td>, <td><a href=\"/wiki/Henry_Farm\" title=\"Henry Farm\">Henry Farm</a>\\n</td>, <td>M2J</td>, <td><a href=\"/wiki/North_York\" title=\"North York\">North York</a></td>, <td>Oriole\\n</td>, <td>M3J</td>, <td><a href=\"/wiki/North_York\" title=\"North York\">North York</a></td>, <td><a class=\"mw-redirect\" href=\"/wiki/Northwood_Park\" title=\"Northwood Park\">Northwood Park</a>\\n</td>, <td>M3J</td>, <td><a href=\"/wiki/North_York\" title=\"North York\">North York</a></td>, <td><a href=\"/wiki/York_University\" title=\"York University\">York University</a>\\n</td>, <td>M4J</td>, <td><a href=\"/wiki/East_York\" title=\"East York\">East York</a></td>, <td><a href=\"/wiki/East_Toronto\" title=\"East Toronto\">East Toronto</a>\\n</td>, <td>M5J</td>, <td><a href=\"/wiki/Downtown_Toronto\" title=\"Downtown Toronto\">Downtown Toronto</a></td>, <td>Harbourfront East\\n</td>, <td>M5J</td>, <td><a href=\"/wiki/Downtown_Toronto\" title=\"Downtown Toronto\">Downtown Toronto</a></td>, <td><a href=\"/wiki/Toronto_Islands\" title=\"Toronto Islands\">Toronto Islands</a>\\n</td>, <td>M5J</td>, <td><a href=\"/wiki/Downtown_Toronto\" title=\"Downtown Toronto\">Downtown Toronto</a></td>, <td><a href=\"/wiki/Union_Station_(Toronto)\" title=\"Union Station (Toronto)\">Union Station</a>\\n</td>, <td>M6J</td>, <td><a href=\"/wiki/West_Toronto\" title=\"West Toronto\">West Toronto</a></td>, <td><a href=\"/wiki/Little_Portugal,_Toronto\" title=\"Little Portugal, Toronto\">Little Portugal</a>\\n</td>, <td>M6J</td>, <td><a href=\"/wiki/West_Toronto\" title=\"West Toronto\">West Toronto</a></td>, <td><a href=\"/wiki/Trinity%E2%80%93Bellwoods\" title=\"Trinity–Bellwoods\">Trinity</a>\\n</td>, <td>M7J</td>, <td>Not assigned</td>, <td>Not assigned\\n</td>, <td>M8J</td>, <td>Not assigned</td>, <td>Not assigned\\n</td>, <td>M9J</td>, <td>Not assigned</td>, <td>Not assigned\\n</td>, <td>M1K</td>, <td><a href=\"/wiki/Scarborough,_Toronto\" title=\"Scarborough, Toronto\">Scarborough</a></td>, <td>East Birchmount Park\\n</td>, <td>M1K</td>, <td><a href=\"/wiki/Scarborough,_Toronto\" title=\"Scarborough, Toronto\">Scarborough</a></td>, <td><a href=\"/wiki/Ionview\" title=\"Ionview\">Ionview</a>\\n</td>, <td>M1K</td>, <td><a href=\"/wiki/Scarborough,_Toronto\" title=\"Scarborough, Toronto\">Scarborough</a></td>, <td><a class=\"mw-redirect\" href=\"/wiki/Kennedy_Park,_Toronto\" title=\"Kennedy Park, Toronto\">Kennedy Park</a>\\n</td>, <td>M2K</td>, <td><a href=\"/wiki/North_York\" title=\"North York\">North York</a></td>, <td><a href=\"/wiki/Bayview_Village\" title=\"Bayview Village\">Bayview Village</a>\\n</td>, <td>M3K</td>, <td><a href=\"/wiki/North_York\" title=\"North York\">North York</a></td>, <td><a href=\"/wiki/CFB_Toronto\" title=\"CFB Toronto\">CFB Toronto</a>\\n</td>, <td>M3K</td>, <td><a href=\"/wiki/North_York\" title=\"North York\">North York</a></td>, <td>Downsview East\\n</td>, <td>M4K</td>, <td><a href=\"/wiki/East_Toronto\" title=\"East Toronto\">East Toronto</a></td>, <td>The Danforth West\\n</td>, <td>M4K</td>, <td><a href=\"/wiki/East_Toronto\" title=\"East Toronto\">East Toronto</a></td>, <td><a href=\"/wiki/Riverdale,_Toronto\" title=\"Riverdale, Toronto\">Riverdale</a>\\n</td>, <td>M5K</td>, <td><a href=\"/wiki/Downtown_Toronto\" title=\"Downtown Toronto\">Downtown Toronto</a></td>, <td><a href=\"/wiki/Design_Exchange\" title=\"Design Exchange\">Design Exchange</a>\\n</td>, <td>M5K</td>, <td><a href=\"/wiki/Downtown_Toronto\" title=\"Downtown Toronto\">Downtown Toronto</a></td>, <td><a class=\"mw-redirect\" href=\"/wiki/Toronto_Dominion_Centre\" title=\"Toronto Dominion Centre\">Toronto Dominion Centre</a>\\n</td>, <td>M6K</td>, <td><a href=\"/wiki/West_Toronto\" title=\"West Toronto\">West Toronto</a></td>, <td>Brockton\\n</td>, <td>M6K</td>, <td><a href=\"/wiki/West_Toronto\" title=\"West Toronto\">West Toronto</a></td>, <td><a href=\"/wiki/Exhibition_Place\" title=\"Exhibition Place\">Exhibition Place</a>\\n</td>, <td>M6K</td>, <td><a href=\"/wiki/West_Toronto\" title=\"West Toronto\">West Toronto</a></td>, <td><a class=\"mw-redirect\" href=\"/wiki/Parkdale_Village\" title=\"Parkdale Village\">Parkdale Village</a>\\n</td>, <td>M7K</td>, <td>Not assigned</td>, <td>Not assigned\\n</td>, <td>M8K</td>, <td>Not assigned</td>, <td>Not assigned\\n</td>, <td>M9K</td>, <td>Not assigned</td>, <td>Not assigned\\n</td>, <td>M1L</td>, <td><a href=\"/wiki/Scarborough,_Toronto\" title=\"Scarborough, Toronto\">Scarborough</a></td>, <td><a href=\"/wiki/Clairlea\" title=\"Clairlea\">Clairlea</a>\\n</td>, <td>M1L</td>, <td><a href=\"/wiki/Scarborough,_Toronto\" title=\"Scarborough, Toronto\">Scarborough</a></td>, <td><a href=\"/wiki/Golden_Mile,_Toronto\" title=\"Golden Mile, Toronto\">Golden Mile</a>\\n</td>, <td>M1L</td>, <td><a href=\"/wiki/Scarborough,_Toronto\" title=\"Scarborough, Toronto\">Scarborough</a></td>, <td><a href=\"/wiki/Oakridge,_Toronto\" title=\"Oakridge, Toronto\">Oakridge</a>\\n</td>, <td>M2L</td>, <td><a href=\"/wiki/North_York\" title=\"North York\">North York</a></td>, <td>Silver Hills\\n</td>, <td>M2L</td>, <td><a href=\"/wiki/North_York\" title=\"North York\">North York</a></td>, <td><a href=\"/wiki/York_Mills\" title=\"York Mills\">York Mills</a>\\n</td>, <td>M3L</td>, <td><a href=\"/wiki/North_York\" title=\"North York\">North York</a></td>, <td><a href=\"/wiki/Downsview\" title=\"Downsview\">Downsview West</a>\\n</td>, <td>M4L</td>, <td><a href=\"/wiki/East_Toronto\" title=\"East Toronto\">East Toronto</a></td>, <td>The Beaches West\\n</td>, <td>M4L</td>, <td><a href=\"/wiki/East_Toronto\" title=\"East Toronto\">East Toronto</a></td>, <td><a class=\"mw-redirect\" href=\"/wiki/India_Bazaar\" title=\"India Bazaar\">India Bazaar</a>\\n</td>, <td>M5L</td>, <td><a href=\"/wiki/Downtown_Toronto\" title=\"Downtown Toronto\">Downtown Toronto</a></td>, <td><a href=\"/wiki/Commerce_Court\" title=\"Commerce Court\">Commerce Court</a>\\n</td>, <td>M5L</td>, <td><a href=\"/wiki/Downtown_Toronto\" title=\"Downtown Toronto\">Downtown Toronto</a></td>, <td>Victoria Hotel\\n</td>, <td>M6L</td>, <td><a href=\"/wiki/North_York\" title=\"North York\">North York</a></td>, <td><a class=\"mw-redirect\" href=\"/wiki/Downsview,_Toronto\" title=\"Downsview, Toronto\">Downsview</a>\\n</td>, <td>M6L</td>, <td><a href=\"/wiki/North_York\" title=\"North York\">North York</a></td>, <td>North Park\\n</td>, <td>M6L</td>, <td><a href=\"/wiki/North_York\" title=\"North York\">North York</a></td>, <td>Upwood Park\\n</td>, <td>M7L</td>, <td>Not assigned</td>, <td>Not assigned\\n</td>, <td>M8L</td>, <td>Not assigned</td>, <td>Not assigned\\n</td>, <td>M9L</td>, <td><a href=\"/wiki/North_York\" title=\"North York\">North York</a></td>, <td><a href=\"/wiki/Humber_Summit\" title=\"Humber Summit\">Humber Summit</a>\\n</td>, <td>M1M</td>, <td><a href=\"/wiki/Scarborough,_Toronto\" title=\"Scarborough, Toronto\">Scarborough</a></td>, <td><a href=\"/wiki/Cliffcrest\" title=\"Cliffcrest\">Cliffcrest</a>\\n</td>, <td>M1M</td>, <td><a href=\"/wiki/Scarborough,_Toronto\" title=\"Scarborough, Toronto\">Scarborough</a></td>, <td><a href=\"/wiki/Cliffside,_Toronto\" title=\"Cliffside, Toronto\">Cliffside</a>\\n</td>, <td>M1M</td>, <td><a href=\"/wiki/Scarborough,_Toronto\" title=\"Scarborough, Toronto\">Scarborough</a></td>, <td>Scarborough Village West\\n</td>, <td>M2M</td>, <td><a href=\"/wiki/North_York\" title=\"North York\">North York</a></td>, <td><a href=\"/wiki/Newtonbrook\" title=\"Newtonbrook\">Newtonbrook</a>\\n</td>, <td>M2M</td>, <td><a href=\"/wiki/North_York\" title=\"North York\">North York</a></td>, <td><a href=\"/wiki/Willowdale,_Toronto\" title=\"Willowdale, Toronto\">Willowdale</a>\\n</td>, <td>M3M</td>, <td><a href=\"/wiki/North_York\" title=\"North York\">North York</a></td>, <td>Downsview Central\\n</td>, <td>M4M</td>, <td><a href=\"/wiki/East_Toronto\" title=\"East Toronto\">East Toronto</a></td>, <td>Studio District\\n</td>, <td>M5M</td>, <td><a href=\"/wiki/North_York\" title=\"North York\">North York</a></td>, <td><a href=\"/wiki/Bedford_Park,_Toronto\" title=\"Bedford Park, Toronto\">Bedford Park</a>\\n</td>, <td>M5M</td>, <td><a href=\"/wiki/North_York\" title=\"North York\">North York</a></td>, <td>Lawrence Manor East\\n</td>, <td>M6M</td>, <td><a href=\"/wiki/York,_Toronto\" title=\"York, Toronto\">York</a></td>, <td>Del Ray\\n</td>, <td>M6M</td>, <td><a href=\"/wiki/York,_Toronto\" title=\"York, Toronto\">York</a></td>, <td><a class=\"mw-redirect\" href=\"/wiki/Keelesdale\" title=\"Keelesdale\">Keelesdale</a>\\n</td>, <td>M6M</td>, <td><a href=\"/wiki/York,_Toronto\" title=\"York, Toronto\">York</a></td>, <td><a href=\"/wiki/Mount_Dennis\" title=\"Mount Dennis\">Mount Dennis</a>\\n</td>, <td>M6M</td>, <td><a href=\"/wiki/York,_Toronto\" title=\"York, Toronto\">York</a></td>, <td><a href=\"/wiki/Silverthorn,_Toronto\" title=\"Silverthorn, Toronto\">Silverthorn</a>\\n</td>, <td>M7M</td>, <td>Not assigned</td>, <td>Not assigned\\n</td>, <td>M8M</td>, <td>Not assigned</td>, <td>Not assigned\\n</td>, <td>M9M</td>, <td><a href=\"/wiki/North_York\" title=\"North York\">North York</a></td>, <td><a class=\"mw-redirect\" href=\"/wiki/Emery,_Toronto\" title=\"Emery, Toronto\">Emery</a>\\n</td>, <td>M9M</td>, <td><a href=\"/wiki/North_York\" title=\"North York\">North York</a></td>, <td><a class=\"mw-redirect\" href=\"/wiki/Humberlea\" title=\"Humberlea\">Humberlea</a>\\n</td>, <td>M1N</td>, <td><a href=\"/wiki/Scarborough,_Toronto\" title=\"Scarborough, Toronto\">Scarborough</a></td>, <td><a href=\"/wiki/Birch_Cliff\" title=\"Birch Cliff\">Birch Cliff</a>\\n</td>, <td>M1N</td>, <td><a href=\"/wiki/Scarborough,_Toronto\" title=\"Scarborough, Toronto\">Scarborough</a></td>, <td>Cliffside West\\n</td>, <td>M2N</td>, <td><a href=\"/wiki/North_York\" title=\"North York\">North York</a></td>, <td>Willowdale South\\n</td>, <td>M3N</td>, <td><a href=\"/wiki/North_York\" title=\"North York\">North York</a></td>, <td>Downsview Northwest\\n</td>, <td>M4N</td>, <td><a class=\"mw-redirect\" href=\"/wiki/Central_Toronto\" title=\"Central Toronto\">Central Toronto</a></td>, <td><a href=\"/wiki/Lawrence_Park,_Toronto\" title=\"Lawrence Park, Toronto\">Lawrence Park</a>\\n</td>, <td>M5N</td>, <td><a class=\"mw-redirect\" href=\"/wiki/Central_Toronto\" title=\"Central Toronto\">Central Toronto</a></td>, <td>Roselawn\\n</td>, <td>M6N</td>, <td><a href=\"/wiki/York,_Toronto\" title=\"York, Toronto\">York</a></td>, <td>The Junction North\\n</td>, <td>M6N</td>, <td><a href=\"/wiki/York,_Toronto\" title=\"York, Toronto\">York</a></td>, <td>Runnymede\\n</td>, <td>M7N</td>, <td>Not assigned</td>, <td>Not assigned\\n</td>, <td>M8N</td>, <td>Not assigned</td>, <td>Not assigned\\n</td>, <td>M9N</td>, <td><a href=\"/wiki/York,_Toronto\" title=\"York, Toronto\">York</a></td>, <td><a href=\"/wiki/Weston,_Toronto\" title=\"Weston, Toronto\">Weston</a>\\n</td>, <td>M1P</td>, <td><a href=\"/wiki/Scarborough,_Toronto\" title=\"Scarborough, Toronto\">Scarborough</a></td>, <td><a href=\"/wiki/Dorset_Park\" title=\"Dorset Park\">Dorset Park</a>\\n</td>, <td>M1P</td>, <td><a href=\"/wiki/Scarborough,_Toronto\" title=\"Scarborough, Toronto\">Scarborough</a></td>, <td><a href=\"/wiki/Scarborough_Town_Centre\" title=\"Scarborough Town Centre\">Scarborough Town Centre</a>\\n</td>, <td>M1P</td>, <td><a href=\"/wiki/Scarborough,_Toronto\" title=\"Scarborough, Toronto\">Scarborough</a></td>, <td><a class=\"mw-redirect\" href=\"/wiki/Wexford_Heights\" title=\"Wexford Heights\">Wexford Heights</a>\\n</td>, <td>M2P</td>, <td><a href=\"/wiki/North_York\" title=\"North York\">North York</a></td>, <td>York Mills West\\n</td>, <td>M3P</td>, <td>Not assigned</td>, <td>Not assigned\\n</td>, <td>M4P</td>, <td><a class=\"mw-redirect\" href=\"/wiki/Central_Toronto\" title=\"Central Toronto\">Central Toronto</a></td>, <td>Davisville North\\n</td>, <td>M5P</td>, <td><a class=\"mw-redirect\" href=\"/wiki/Central_Toronto\" title=\"Central Toronto\">Central Toronto</a></td>, <td><a class=\"mw-redirect\" href=\"/wiki/Forest_Hill_North\" title=\"Forest Hill North\">Forest Hill North</a>\\n</td>, <td>M5P</td>, <td><a class=\"mw-redirect\" href=\"/wiki/Central_Toronto\" title=\"Central Toronto\">Central Toronto</a></td>, <td>Forest Hill West\\n</td>, <td>M6P</td>, <td><a href=\"/wiki/West_Toronto\" title=\"West Toronto\">West Toronto</a></td>, <td><a href=\"/wiki/High_Park\" title=\"High Park\">High Park</a>\\n</td>, <td>M6P</td>, <td><a href=\"/wiki/West_Toronto\" title=\"West Toronto\">West Toronto</a></td>, <td>The Junction South\\n</td>, <td>M7P</td>, <td>Not assigned</td>, <td>Not assigned\\n</td>, <td>M8P</td>, <td>Not assigned</td>, <td>Not assigned\\n</td>, <td>M9P</td>, <td><a href=\"/wiki/Etobicoke\" title=\"Etobicoke\">Etobicoke</a></td>, <td>Westmount\\n</td>, <td>M1R</td>, <td><a href=\"/wiki/Scarborough,_Toronto\" title=\"Scarborough, Toronto\">Scarborough</a></td>, <td><a href=\"/wiki/Maryvale,_Toronto\" title=\"Maryvale, Toronto\">Maryvale</a>\\n</td>, <td>M1R</td>, <td><a href=\"/wiki/Scarborough,_Toronto\" title=\"Scarborough, Toronto\">Scarborough</a></td>, <td><a href=\"/wiki/Wexford,_Toronto\" title=\"Wexford, Toronto\">Wexford</a>\\n</td>, <td>M2R</td>, <td><a href=\"/wiki/North_York\" title=\"North York\">North York</a></td>, <td><a class=\"mw-redirect\" href=\"/wiki/Willowdale_West\" title=\"Willowdale West\">Willowdale West</a>\\n</td>, <td>M3R</td>, <td>Not assigned</td>, <td>Not assigned\\n</td>, <td>M4R</td>, <td><a class=\"mw-redirect\" href=\"/wiki/Central_Toronto\" title=\"Central Toronto\">Central Toronto</a></td>, <td>North Toronto West\\n</td>, <td>M5R</td>, <td><a class=\"mw-redirect\" href=\"/wiki/Central_Toronto\" title=\"Central Toronto\">Central Toronto</a></td>, <td><a href=\"/wiki/The_Annex\" title=\"The Annex\">The Annex</a>\\n</td>, <td>M5R</td>, <td><a class=\"mw-redirect\" href=\"/wiki/Central_Toronto\" title=\"Central Toronto\">Central Toronto</a></td>, <td>North Midtown\\n</td>, <td>M5R</td>, <td><a class=\"mw-redirect\" href=\"/wiki/Central_Toronto\" title=\"Central Toronto\">Central Toronto</a></td>, <td><a href=\"/wiki/Yorkville,_Toronto\" title=\"Yorkville, Toronto\">Yorkville</a>\\n</td>, <td>M6R</td>, <td><a href=\"/wiki/West_Toronto\" title=\"West Toronto\">West Toronto</a></td>, <td><a href=\"/wiki/Parkdale,_Toronto\" title=\"Parkdale, Toronto\">Parkdale</a>\\n</td>, <td>M6R</td>, <td><a href=\"/wiki/West_Toronto\" title=\"West Toronto\">West Toronto</a></td>, <td><a href=\"/wiki/Roncesvalles,_Toronto\" title=\"Roncesvalles, Toronto\">Roncesvalles</a>\\n</td>, <td>M7R</td>, <td>Mississauga</td>, <td>Canada Post Gateway Processing Centre\\n</td>, <td>M8R</td>, <td>Not assigned</td>, <td>Not assigned\\n</td>, <td>M9R</td>, <td><a href=\"/wiki/Etobicoke\" title=\"Etobicoke\">Etobicoke</a></td>, <td><a href=\"/wiki/Kingsview_Village\" title=\"Kingsview Village\">Kingsview Village</a>\\n</td>, <td>M9R</td>, <td><a href=\"/wiki/Etobicoke\" title=\"Etobicoke\">Etobicoke</a></td>, <td>Martin Grove Gardens\\n</td>, <td>M9R</td>, <td><a href=\"/wiki/Etobicoke\" title=\"Etobicoke\">Etobicoke</a></td>, <td>Richview Gardens\\n</td>, <td>M9R</td>, <td><a href=\"/wiki/Etobicoke\" title=\"Etobicoke\">Etobicoke</a></td>, <td>St. Phillips\\n</td>, <td>M1S</td>, <td><a href=\"/wiki/Scarborough,_Toronto\" title=\"Scarborough, Toronto\">Scarborough</a></td>, <td><a href=\"/wiki/Agincourt,_Toronto\" title=\"Agincourt, Toronto\">Agincourt</a>\\n</td>, <td>M2S</td>, <td>Not assigned</td>, <td>Not assigned\\n</td>, <td>M3S</td>, <td>Not assigned</td>, <td>Not assigned\\n</td>, <td>M4S</td>, <td><a class=\"mw-redirect\" href=\"/wiki/Central_Toronto\" title=\"Central Toronto\">Central Toronto</a></td>, <td>Davisville\\n</td>, <td>M5S</td>, <td><a href=\"/wiki/Downtown_Toronto\" title=\"Downtown Toronto\">Downtown Toronto</a></td>, <td>Harbord\\n</td>, <td>M5S</td>, <td><a href=\"/wiki/Downtown_Toronto\" title=\"Downtown Toronto\">Downtown Toronto</a></td>, <td><a href=\"/wiki/University_of_Toronto\" title=\"University of Toronto\">University of Toronto</a>\\n</td>, <td>M6S</td>, <td><a href=\"/wiki/West_Toronto\" title=\"West Toronto\">West Toronto</a></td>, <td><a href=\"/wiki/Runnymede,_Toronto\" title=\"Runnymede, Toronto\">Runnymede</a>\\n</td>, <td>M6S</td>, <td><a href=\"/wiki/West_Toronto\" title=\"West Toronto\">West Toronto</a></td>, <td><a href=\"/wiki/Swansea,_Toronto\" title=\"Swansea, Toronto\">Swansea</a>\\n</td>, <td>M7S</td>, <td>Not assigned</td>, <td>Not assigned\\n</td>, <td>M8S</td>, <td>Not assigned</td>, <td>Not assigned\\n</td>, <td>M9S</td>, <td>Not assigned</td>, <td>Not assigned\\n</td>, <td>M1T</td>, <td><a href=\"/wiki/Scarborough,_Toronto\" title=\"Scarborough, Toronto\">Scarborough</a></td>, <td>Clarks Corners\\n</td>, <td>M1T</td>, <td><a href=\"/wiki/Scarborough,_Toronto\" title=\"Scarborough, Toronto\">Scarborough</a></td>, <td>Sullivan\\n</td>, <td>M1T</td>, <td><a href=\"/wiki/Scarborough,_Toronto\" title=\"Scarborough, Toronto\">Scarborough</a></td>, <td><a href=\"/wiki/Tam_O%27Shanter_%E2%80%93_Sullivan\" title=\"Tam O\\'Shanter – Sullivan\">Tam O\\'Shanter</a>\\n</td>, <td>M2T</td>, <td>Not assigned</td>, <td>Not assigned\\n</td>, <td>M3T</td>, <td>Not assigned</td>, <td>Not assigned\\n</td>, <td>M4T</td>, <td><a class=\"mw-redirect\" href=\"/wiki/Central_Toronto\" title=\"Central Toronto\">Central Toronto</a></td>, <td><a href=\"/wiki/Moore_Park,_Toronto\" title=\"Moore Park, Toronto\">Moore Park</a>\\n</td>, <td>M4T</td>, <td><a class=\"mw-redirect\" href=\"/wiki/Central_Toronto\" title=\"Central Toronto\">Central Toronto</a></td>, <td>Summerhill East\\n</td>, <td>M5T</td>, <td><a href=\"/wiki/Downtown_Toronto\" title=\"Downtown Toronto\">Downtown Toronto</a></td>, <td><a href=\"/wiki/Chinatown,_Toronto\" title=\"Chinatown, Toronto\">Chinatown</a>\\n</td>, <td>M5T</td>, <td><a href=\"/wiki/Downtown_Toronto\" title=\"Downtown Toronto\">Downtown Toronto</a></td>, <td><a href=\"/wiki/Grange_Park_(Toronto)\" title=\"Grange Park (Toronto)\">Grange Park</a>\\n</td>, <td>M5T</td>, <td><a href=\"/wiki/Downtown_Toronto\" title=\"Downtown Toronto\">Downtown Toronto</a></td>, <td><a href=\"/wiki/Kensington_Market\" title=\"Kensington Market\">Kensington Market</a>\\n</td>, <td>M6T</td>, <td>Not assigned</td>, <td>Not assigned\\n</td>, <td>M7T</td>, <td>Not assigned</td>, <td>Not assigned\\n</td>, <td>M8T</td>, <td>Not assigned</td>, <td>Not assigned\\n</td>, <td>M9T</td>, <td>Not assigned</td>, <td>Not assigned\\n</td>, <td>M1V</td>, <td><a href=\"/wiki/Scarborough,_Toronto\" title=\"Scarborough, Toronto\">Scarborough</a></td>, <td><a class=\"mw-redirect\" href=\"/wiki/Agincourt_North\" title=\"Agincourt North\">Agincourt North</a>\\n</td>, <td>M1V</td>, <td><a href=\"/wiki/Scarborough,_Toronto\" title=\"Scarborough, Toronto\">Scarborough</a></td>, <td>L\\'Amoreaux East\\n</td>, <td>M1V</td>, <td><a href=\"/wiki/Scarborough,_Toronto\" title=\"Scarborough, Toronto\">Scarborough</a></td>, <td><a href=\"/wiki/Milliken,_Ontario\" title=\"Milliken, Ontario\">Milliken</a>\\n</td>, <td>M1V</td>, <td><a href=\"/wiki/Scarborough,_Toronto\" title=\"Scarborough, Toronto\">Scarborough</a></td>, <td>Steeles East\\n</td>, <td>M2V</td>, <td>Not assigned</td>, <td>Not assigned\\n</td>, <td>M3V</td>, <td>Not assigned</td>, <td>Not assigned\\n</td>, <td>M4V</td>, <td><a class=\"mw-redirect\" href=\"/wiki/Central_Toronto\" title=\"Central Toronto\">Central Toronto</a></td>, <td><a href=\"/wiki/Deer_Park,_Toronto\" title=\"Deer Park, Toronto\">Deer Park</a>\\n</td>, <td>M4V</td>, <td><a class=\"mw-redirect\" href=\"/wiki/Central_Toronto\" title=\"Central Toronto\">Central Toronto</a></td>, <td>Forest Hill SE\\n</td>, <td>M4V</td>, <td><a class=\"mw-redirect\" href=\"/wiki/Central_Toronto\" title=\"Central Toronto\">Central Toronto</a></td>, <td><a class=\"mw-redirect\" href=\"/wiki/Rathnelly\" title=\"Rathnelly\">Rathnelly</a>\\n</td>, <td>M4V</td>, <td><a class=\"mw-redirect\" href=\"/wiki/Central_Toronto\" title=\"Central Toronto\">Central Toronto</a></td>, <td><a href=\"/wiki/South_Hill,_Toronto\" title=\"South Hill, Toronto\">South Hill</a>\\n</td>, <td>M4V</td>, <td><a class=\"mw-redirect\" href=\"/wiki/Central_Toronto\" title=\"Central Toronto\">Central Toronto</a></td>, <td>Summerhill West\\n</td>, <td>M5V</td>, <td><a href=\"/wiki/Downtown_Toronto\" title=\"Downtown Toronto\">Downtown Toronto</a></td>, <td><a href=\"/wiki/CN_Tower\" title=\"CN Tower\">CN Tower</a>\\n</td>, <td>M5V</td>, <td><a href=\"/wiki/Downtown_Toronto\" title=\"Downtown Toronto\">Downtown Toronto</a></td>, <td>Bathurst Quay\\n</td>, <td>M5V</td>, <td><a href=\"/wiki/Downtown_Toronto\" title=\"Downtown Toronto\">Downtown Toronto</a></td>, <td>Island airport\\n</td>, <td>M5V</td>, <td><a href=\"/wiki/Downtown_Toronto\" title=\"Downtown Toronto\">Downtown Toronto</a></td>, <td>Harbourfront West\\n</td>, <td>M5V</td>, <td><a href=\"/wiki/Downtown_Toronto\" title=\"Downtown Toronto\">Downtown Toronto</a></td>, <td><a class=\"mw-redirect\" href=\"/wiki/King_and_Spadina\" title=\"King and Spadina\">King and Spadina</a>\\n</td>, <td>M5V</td>, <td><a href=\"/wiki/Downtown_Toronto\" title=\"Downtown Toronto\">Downtown Toronto</a></td>, <td><a href=\"/wiki/Railway_Lands\" title=\"Railway Lands\">Railway Lands</a>\\n</td>, <td>M5V</td>, <td><a href=\"/wiki/Downtown_Toronto\" title=\"Downtown Toronto\">Downtown Toronto</a></td>, <td><a class=\"mw-redirect\" href=\"/wiki/South_Niagara\" title=\"South Niagara\">South Niagara</a>\\n</td>, <td>M6V</td>, <td>Not assigned</td>, <td>Not assigned\\n</td>, <td>M7V</td>, <td>Not assigned</td>, <td>Not assigned\\n</td>, <td>M8V</td>, <td><a href=\"/wiki/Etobicoke\" title=\"Etobicoke\">Etobicoke</a></td>, <td>Humber Bay Shores\\n</td>, <td>M8V</td>, <td><a href=\"/wiki/Etobicoke\" title=\"Etobicoke\">Etobicoke</a></td>, <td>Mimico South\\n</td>, <td>M8V</td>, <td><a href=\"/wiki/Etobicoke\" title=\"Etobicoke\">Etobicoke</a></td>, <td><a href=\"/wiki/New_Toronto\" title=\"New Toronto\">New Toronto</a>\\n</td>, <td>M9V</td>, <td><a href=\"/wiki/Etobicoke\" title=\"Etobicoke\">Etobicoke</a></td>, <td>Albion Gardens\\n</td>, <td>M9V</td>, <td><a href=\"/wiki/Etobicoke\" title=\"Etobicoke\">Etobicoke</a></td>, <td><a class=\"mw-redirect\" href=\"/wiki/Beaumond_Heights\" title=\"Beaumond Heights\">Beaumond Heights</a>\\n</td>, <td>M9V</td>, <td><a href=\"/wiki/Etobicoke\" title=\"Etobicoke\">Etobicoke</a></td>, <td>Humbergate\\n</td>, <td>M9V</td>, <td><a href=\"/wiki/Etobicoke\" title=\"Etobicoke\">Etobicoke</a></td>, <td><a class=\"mw-redirect\" href=\"/wiki/Mount_Olive-Silverstone-Jamestown\" title=\"Mount Olive-Silverstone-Jamestown\">Jamestown</a>\\n</td>, <td>M9V</td>, <td><a href=\"/wiki/Etobicoke\" title=\"Etobicoke\">Etobicoke</a></td>, <td><a class=\"mw-redirect\" href=\"/wiki/Mount_Olive-Silverstone-Jamestown\" title=\"Mount Olive-Silverstone-Jamestown\">Mount Olive</a>\\n</td>, <td>M9V</td>, <td><a href=\"/wiki/Etobicoke\" title=\"Etobicoke\">Etobicoke</a></td>, <td><a class=\"mw-redirect\" href=\"/wiki/Silverstone,_Toronto\" title=\"Silverstone, Toronto\">Silverstone</a>\\n</td>, <td>M9V</td>, <td><a href=\"/wiki/Etobicoke\" title=\"Etobicoke\">Etobicoke</a></td>, <td><a class=\"mw-redirect\" href=\"/wiki/South_Steeles\" title=\"South Steeles\">South Steeles</a>\\n</td>, <td>M9V</td>, <td><a href=\"/wiki/Etobicoke\" title=\"Etobicoke\">Etobicoke</a></td>, <td><a href=\"/wiki/Thistletown\" title=\"Thistletown\">Thistletown</a>\\n</td>, <td>M1W</td>, <td><a href=\"/wiki/Scarborough,_Toronto\" title=\"Scarborough, Toronto\">Scarborough</a></td>, <td>L\\'Amoreaux West\\n</td>, <td>M2W</td>, <td>Not assigned</td>, <td>Not assigned\\n</td>, <td>M3W</td>, <td>Not assigned</td>, <td>Not assigned\\n</td>, <td>M4W</td>, <td><a href=\"/wiki/Downtown_Toronto\" title=\"Downtown Toronto\">Downtown Toronto</a></td>, <td><a href=\"/wiki/Rosedale,_Toronto\" title=\"Rosedale, Toronto\">Rosedale</a>\\n</td>, <td>M5W</td>, <td><a href=\"/wiki/Downtown_Toronto\" title=\"Downtown Toronto\">Downtown Toronto</a></td>, <td>Stn A PO Boxes 25 The Esplanade\\n</td>, <td>M6W</td>, <td>Not assigned</td>, <td>Not assigned\\n</td>, <td>M7W</td>, <td>Not assigned</td>, <td>Not assigned\\n</td>, <td>M8W</td>, <td><a href=\"/wiki/Etobicoke\" title=\"Etobicoke\">Etobicoke</a></td>, <td><a href=\"/wiki/Alderwood,_Toronto\" title=\"Alderwood, Toronto\">Alderwood</a>\\n</td>, <td>M8W</td>, <td><a href=\"/wiki/Etobicoke\" title=\"Etobicoke\">Etobicoke</a></td>, <td><a href=\"/wiki/Long_Branch,_Toronto\" title=\"Long Branch, Toronto\">Long Branch</a>\\n</td>, <td>M9W</td>, <td><a href=\"/wiki/Etobicoke\" title=\"Etobicoke\">Etobicoke</a></td>, <td>Northwest\\n</td>, <td>M1X</td>, <td><a href=\"/wiki/Scarborough,_Toronto\" title=\"Scarborough, Toronto\">Scarborough</a></td>, <td><a class=\"mw-redirect\" href=\"/wiki/Upper_Rouge\" title=\"Upper Rouge\">Upper Rouge</a>\\n</td>, <td>M2X</td>, <td>Not assigned</td>, <td>Not assigned\\n</td>, <td>M3X</td>, <td>Not assigned</td>, <td>Not assigned\\n</td>, <td>M4X</td>, <td><a href=\"/wiki/Downtown_Toronto\" title=\"Downtown Toronto\">Downtown Toronto</a></td>, <td><a href=\"/wiki/Cabbagetown,_Toronto\" title=\"Cabbagetown, Toronto\">Cabbagetown</a>\\n</td>, <td>M4X</td>, <td><a href=\"/wiki/Downtown_Toronto\" title=\"Downtown Toronto\">Downtown Toronto</a></td>, <td><a href=\"/wiki/St._James_Town\" title=\"St. James Town\">St. James Town</a>\\n</td>, <td>M5X</td>, <td><a href=\"/wiki/Downtown_Toronto\" title=\"Downtown Toronto\">Downtown Toronto</a></td>, <td><a href=\"/wiki/First_Canadian_Place\" title=\"First Canadian Place\">First Canadian Place</a>\\n</td>, <td>M5X</td>, <td><a href=\"/wiki/Downtown_Toronto\" title=\"Downtown Toronto\">Downtown Toronto</a></td>, <td><a href=\"/wiki/Underground_city\" title=\"Underground city\">Underground city</a>\\n</td>, <td>M6X</td>, <td>Not assigned</td>, <td>Not assigned\\n</td>, <td>M7X</td>, <td>Not assigned</td>, <td>Not assigned\\n</td>, <td>M8X</td>, <td><a href=\"/wiki/Etobicoke\" title=\"Etobicoke\">Etobicoke</a></td>, <td><a href=\"/wiki/The_Kingsway\" title=\"The Kingsway\">The Kingsway</a>\\n</td>, <td>M8X</td>, <td><a href=\"/wiki/Etobicoke\" title=\"Etobicoke\">Etobicoke</a></td>, <td>Montgomery Road\\n</td>, <td>M8X</td>, <td><a href=\"/wiki/Etobicoke\" title=\"Etobicoke\">Etobicoke</a></td>, <td>Old Mill North\\n</td>, <td>M9X</td>, <td>Not assigned</td>, <td>Not assigned\\n</td>, <td>M1Y</td>, <td>Not assigned</td>, <td>Not assigned\\n</td>, <td>M2Y</td>, <td>Not assigned</td>, <td>Not assigned\\n</td>, <td>M3Y</td>, <td>Not assigned</td>, <td>Not assigned\\n</td>, <td>M4Y</td>, <td><a href=\"/wiki/Downtown_Toronto\" title=\"Downtown Toronto\">Downtown Toronto</a></td>, <td><a href=\"/wiki/Church_and_Wellesley\" title=\"Church and Wellesley\">Church and Wellesley</a>\\n</td>, <td>M5Y</td>, <td>Not assigned</td>, <td>Not assigned\\n</td>, <td>M6Y</td>, <td>Not assigned</td>, <td>Not assigned\\n</td>, <td>M7Y</td>, <td><a href=\"/wiki/East_Toronto\" title=\"East Toronto\">East Toronto</a></td>, <td>Business Reply Mail Processing Centre 969 Eastern\\n</td>, <td>M8Y</td>, <td><a href=\"/wiki/Etobicoke\" title=\"Etobicoke\">Etobicoke</a></td>, <td><a href=\"/wiki/Humber_Bay\" title=\"Humber Bay\">Humber Bay</a>\\n</td>, <td>M8Y</td>, <td><a href=\"/wiki/Etobicoke\" title=\"Etobicoke\">Etobicoke</a></td>, <td>King\\'s Mill Park\\n</td>, <td>M8Y</td>, <td><a href=\"/wiki/Etobicoke\" title=\"Etobicoke\">Etobicoke</a></td>, <td>Kingsway Park South East\\n</td>, <td>M8Y</td>, <td><a href=\"/wiki/Etobicoke\" title=\"Etobicoke\">Etobicoke</a></td>, <td><a href=\"/wiki/Mimico\" title=\"Mimico\">Mimico NE</a>\\n</td>, <td>M8Y</td>, <td><a href=\"/wiki/Etobicoke\" title=\"Etobicoke\">Etobicoke</a></td>, <td><a href=\"/wiki/Old_Mill,_Toronto\" title=\"Old Mill, Toronto\">Old Mill South</a>\\n</td>, <td>M8Y</td>, <td><a href=\"/wiki/Etobicoke\" title=\"Etobicoke\">Etobicoke</a></td>, <td><a href=\"/wiki/The_Queensway\" title=\"The Queensway\">The Queensway East</a>\\n</td>, <td>M8Y</td>, <td><a href=\"/wiki/Etobicoke\" title=\"Etobicoke\">Etobicoke</a></td>, <td><a class=\"mw-redirect\" href=\"/wiki/Fairmont_Royal_York_Hotel\" title=\"Fairmont Royal York Hotel\">Royal York South East</a>\\n</td>, <td>M8Y</td>, <td><a href=\"/wiki/Etobicoke\" title=\"Etobicoke\">Etobicoke</a></td>, <td><a class=\"mw-redirect\" href=\"/wiki/Sunnylea\" title=\"Sunnylea\">Sunnylea</a>\\n</td>, <td>M9Y</td>, <td>Not assigned</td>, <td>Not assigned\\n</td>, <td>M1Z</td>, <td>Not assigned</td>, <td>Not assigned\\n</td>, <td>M2Z</td>, <td>Not assigned</td>, <td>Not assigned\\n</td>, <td>M3Z</td>, <td>Not assigned</td>, <td>Not assigned\\n</td>, <td>M4Z</td>, <td>Not assigned</td>, <td>Not assigned\\n</td>, <td>M5Z</td>, <td>Not assigned</td>, <td>Not assigned\\n</td>, <td>M6Z</td>, <td>Not assigned</td>, <td>Not assigned\\n</td>, <td>M7Z</td>, <td>Not assigned</td>, <td>Not assigned\\n</td>, <td>M8Z</td>, <td><a href=\"/wiki/Etobicoke\" title=\"Etobicoke\">Etobicoke</a></td>, <td>Kingsway Park South West\\n</td>, <td>M8Z</td>, <td><a href=\"/wiki/Etobicoke\" title=\"Etobicoke\">Etobicoke</a></td>, <td><a href=\"/wiki/Mimico\" title=\"Mimico\">Mimico NW</a>\\n</td>, <td>M8Z</td>, <td><a href=\"/wiki/Etobicoke\" title=\"Etobicoke\">Etobicoke</a></td>, <td><a href=\"/wiki/The_Queensway\" title=\"The Queensway\">The Queensway West</a>\\n</td>, <td>M8Z</td>, <td><a href=\"/wiki/Etobicoke\" title=\"Etobicoke\">Etobicoke</a></td>, <td>Royal York South West\\n</td>, <td>M8Z</td>, <td><a href=\"/wiki/Etobicoke\" title=\"Etobicoke\">Etobicoke</a></td>, <td>South of Bloor\\n</td>, <td>M9Z</td>, <td>Not assigned</td>, <td>Not assigned\\n</td>]'"
      ]
     },
     "execution_count": 7,
     "metadata": {},
     "output_type": "execute_result"
    }
   ],
   "source": [
    "#Extract td HTML tag in Table\n",
    "tRow = Table.find_all('td')\n",
    "\n",
    "#Convert Beautiful Soup object to string for easy cleansing\n",
    "rData = str(tRow)\n",
    "\n",
    "rData"
   ]
  },
  {
   "cell_type": "markdown",
   "metadata": {},
   "source": [
    "#### Changing some characters to comma in order to have only one delimiter"
   ]
  },
  {
   "cell_type": "code",
   "execution_count": 10,
   "metadata": {},
   "outputs": [
    {
     "data": {
      "text/html": [
       "<div>\n",
       "<style scoped>\n",
       "    .dataframe tbody tr th:only-of-type {\n",
       "        vertical-align: middle;\n",
       "    }\n",
       "\n",
       "    .dataframe tbody tr th {\n",
       "        vertical-align: top;\n",
       "    }\n",
       "\n",
       "    .dataframe thead th {\n",
       "        text-align: right;\n",
       "    }\n",
       "</style>\n",
       "<table border=\"1\" class=\"dataframe\">\n",
       "  <thead>\n",
       "    <tr style=\"text-align: right;\">\n",
       "      <th></th>\n",
       "      <th>0</th>\n",
       "    </tr>\n",
       "  </thead>\n",
       "  <tbody>\n",
       "    <tr>\n",
       "      <th>0</th>\n",
       "      <td>[</td>\n",
       "    </tr>\n",
       "    <tr>\n",
       "      <th>1</th>\n",
       "      <td>td</td>\n",
       "    </tr>\n",
       "    <tr>\n",
       "      <th>2</th>\n",
       "      <td>M1A</td>\n",
       "    </tr>\n",
       "    <tr>\n",
       "      <th>3</th>\n",
       "      <td>/td</td>\n",
       "    </tr>\n",
       "    <tr>\n",
       "      <th>4</th>\n",
       "      <td></td>\n",
       "    </tr>\n",
       "  </tbody>\n",
       "</table>\n",
       "</div>"
      ],
      "text/plain": [
       "     0\n",
       "0    [\n",
       "1   td\n",
       "2  M1A\n",
       "3  /td\n",
       "4     "
      ]
     },
     "execution_count": 10,
     "metadata": {},
     "output_type": "execute_result"
    }
   ],
   "source": [
    "#Replace the characters in order to have only one delimiter\n",
    "Ch2Replace = ['<','>','\\n'] #Characters to replace\n",
    "i = 0 #iteration that resets after running all the characters to look for\n",
    "Delimiter = ','\n",
    "Iteration = rData #Assigning different iteration object as the for loop will alter reference object (rData)\n",
    "\n",
    "#Convert unwanted characters to only have one delimiter\n",
    "for Count in Iteration:\n",
    "    for Ch2Look4 in Ch2Replace:\n",
    "        if rData.find(Ch2Replace[i]) >= 0:\n",
    "            LocatedChIndex = rData.find(Ch2Replace[i])\n",
    "            rData = rData[:LocatedChIndex] + Delimiter + rData[LocatedChIndex + 1:]\n",
    "            i += 1\n",
    "        else:\n",
    "            ''\n",
    "    i = 0\n",
    "    \n",
    "#Split the data with , delimiter which also converts the data to list\n",
    "RowData = rData.split(',')\n",
    "\n",
    "#Convert the list to dataframe\n",
    "TableRows = pd.DataFrame(RowData)\n",
    "\n",
    "TableRows.head()"
   ]
  },
  {
   "cell_type": "markdown",
   "metadata": {},
   "source": [
    "#### Droping unwanted rows which contains specific words or lenght of words"
   ]
  },
  {
   "cell_type": "code",
   "execution_count": 11,
   "metadata": {},
   "outputs": [],
   "source": [
    "#Drop unwanted rows using for loop\n",
    "\n",
    "Count = 0\n",
    "Iterations = TableRows.index #Assigning different iteration object as TableRows will be altered in the for loop\n",
    "\n",
    "for Rows in Iterations:\n",
    "    #Error handling, Pyhton results to an error if it was not able to find what it is searching for\n",
    "    try:\n",
    "        if len(TableRows.loc[Count,0]) < 3 or \\\n",
    "        TableRows.loc[Count,0].find('wiki') > 0 or \\\n",
    "        TableRows.loc[Count,0] == 'wiki' or \\\n",
    "        TableRows.loc[Count,0].find('=') > 0 or \\\n",
    "        TableRows.loc[Count,0] == '/td' or \\\n",
    "        TableRows.loc[Count,0].find('/td') > 0 or \\\n",
    "        TableRows.loc[Count,0] == '\\\"' or \\\n",
    "        TableRows.loc[Count,0].find('\\\"') > 0 or \\\n",
    "        TableRows.loc[Count,0].find('_') > 0 or\\\n",
    "        TableRows.loc[Count,0].find('/') > 0:\n",
    "            TableRows.drop(axis = 0, index = Count, inplace = True) \n",
    "    except:\n",
    "        '' #Indicates do nothing\n",
    "    \n",
    "    Count += 1\n",
    "    \n",
    "#Reset index of the dataframe for easy referencing in the future\n",
    "TableRows.reset_index(drop = True, inplace = True)\n"
   ]
  },
  {
   "cell_type": "markdown",
   "metadata": {},
   "source": [
    "#### Creating  a dataframe with three (3) columns from TableRows object with assistance from Numpy"
   ]
  },
  {
   "cell_type": "code",
   "execution_count": 13,
   "metadata": {},
   "outputs": [
    {
     "data": {
      "text/html": [
       "<div>\n",
       "<style scoped>\n",
       "    .dataframe tbody tr th:only-of-type {\n",
       "        vertical-align: middle;\n",
       "    }\n",
       "\n",
       "    .dataframe tbody tr th {\n",
       "        vertical-align: top;\n",
       "    }\n",
       "\n",
       "    .dataframe thead th {\n",
       "        text-align: right;\n",
       "    }\n",
       "</style>\n",
       "<table border=\"1\" class=\"dataframe\">\n",
       "  <thead>\n",
       "    <tr style=\"text-align: right;\">\n",
       "      <th></th>\n",
       "      <th>Postcode</th>\n",
       "      <th>Borough</th>\n",
       "      <th>Neighbourhood</th>\n",
       "    </tr>\n",
       "  </thead>\n",
       "  <tbody>\n",
       "    <tr>\n",
       "      <th>0</th>\n",
       "      <td>M1A</td>\n",
       "      <td>Not assigned</td>\n",
       "      <td>Not assigned</td>\n",
       "    </tr>\n",
       "    <tr>\n",
       "      <th>1</th>\n",
       "      <td>M2A</td>\n",
       "      <td>Not assigned</td>\n",
       "      <td>Not assigned</td>\n",
       "    </tr>\n",
       "    <tr>\n",
       "      <th>2</th>\n",
       "      <td>M3A</td>\n",
       "      <td>North York</td>\n",
       "      <td>Parkwoods</td>\n",
       "    </tr>\n",
       "    <tr>\n",
       "      <th>3</th>\n",
       "      <td>M4A</td>\n",
       "      <td>North York</td>\n",
       "      <td>Victoria Village</td>\n",
       "    </tr>\n",
       "    <tr>\n",
       "      <th>4</th>\n",
       "      <td>M5A</td>\n",
       "      <td>Downtown Toronto</td>\n",
       "      <td>Harbourfront</td>\n",
       "    </tr>\n",
       "  </tbody>\n",
       "</table>\n",
       "</div>"
      ],
      "text/plain": [
       "  Postcode           Borough     Neighbourhood\n",
       "0      M1A      Not assigned      Not assigned\n",
       "1      M2A      Not assigned      Not assigned\n",
       "2      M3A        North York         Parkwoods\n",
       "3      M4A        North York  Victoria Village\n",
       "4      M5A  Downtown Toronto      Harbourfront"
      ]
     },
     "execution_count": 13,
     "metadata": {},
     "output_type": "execute_result"
    }
   ],
   "source": [
    "#In order to determine the position of each data in the TableRows dataframe,Numpy is used to divide by batches of three. \n",
    "DataPoints = np.arange(0,TableRows.shape[0]) #creates a list of number from 0 to maximum number of rows in the dataframe\n",
    "BatchCount = TableRows.shape[0]/3 #Create the number of batches\n",
    "Batch = np.split(DataPoints, BatchCount) #Separate the number list (DataPoints) by batch using Numpy\n",
    "\n",
    "Row = 0 #Row\n",
    "iCol = 0 #Iteration resets to 0 after for loop used for assigning value to a column\n",
    "Data = 0 #Iteration that will be used to locate a data in TableRow\n",
    "\n",
    "Col = dfTable.columns\n",
    "\n",
    "for Insert in Batch:\n",
    "    #Determine if a data is part of a batch\n",
    "    for ColValues in Batch[Row]:\n",
    "        dfTable.loc[Row,Col[iCol]] = TableRows.loc[Data,0]\n",
    "        iCol += 1\n",
    "        Data += 1\n",
    "    \n",
    "    Row += 1\n",
    "    iCol = 0\n",
    "\n",
    "dfTable.head()"
   ]
  },
  {
   "cell_type": "markdown",
   "metadata": {},
   "source": [
    "#### Remove the rows with \"Not assigned\""
   ]
  },
  {
   "cell_type": "code",
   "execution_count": 15,
   "metadata": {},
   "outputs": [
    {
     "data": {
      "text/html": [
       "<div>\n",
       "<style scoped>\n",
       "    .dataframe tbody tr th:only-of-type {\n",
       "        vertical-align: middle;\n",
       "    }\n",
       "\n",
       "    .dataframe tbody tr th {\n",
       "        vertical-align: top;\n",
       "    }\n",
       "\n",
       "    .dataframe thead th {\n",
       "        text-align: right;\n",
       "    }\n",
       "</style>\n",
       "<table border=\"1\" class=\"dataframe\">\n",
       "  <thead>\n",
       "    <tr style=\"text-align: right;\">\n",
       "      <th></th>\n",
       "      <th>Postcode</th>\n",
       "      <th>Borough</th>\n",
       "      <th>Neighbourhood</th>\n",
       "    </tr>\n",
       "  </thead>\n",
       "  <tbody>\n",
       "    <tr>\n",
       "      <th>0</th>\n",
       "      <td>M3A</td>\n",
       "      <td>North York</td>\n",
       "      <td>Parkwoods</td>\n",
       "    </tr>\n",
       "    <tr>\n",
       "      <th>1</th>\n",
       "      <td>M4A</td>\n",
       "      <td>North York</td>\n",
       "      <td>Victoria Village</td>\n",
       "    </tr>\n",
       "    <tr>\n",
       "      <th>2</th>\n",
       "      <td>M5A</td>\n",
       "      <td>Downtown Toronto</td>\n",
       "      <td>Harbourfront</td>\n",
       "    </tr>\n",
       "    <tr>\n",
       "      <th>3</th>\n",
       "      <td>M6A</td>\n",
       "      <td>North York</td>\n",
       "      <td>Lawrence Heights</td>\n",
       "    </tr>\n",
       "    <tr>\n",
       "      <th>4</th>\n",
       "      <td>M6A</td>\n",
       "      <td>North York</td>\n",
       "      <td>Lawrence Manor</td>\n",
       "    </tr>\n",
       "  </tbody>\n",
       "</table>\n",
       "</div>"
      ],
      "text/plain": [
       "  Postcode           Borough     Neighbourhood\n",
       "0      M3A        North York         Parkwoods\n",
       "1      M4A        North York  Victoria Village\n",
       "2      M5A  Downtown Toronto      Harbourfront\n",
       "3      M6A        North York  Lawrence Heights\n",
       "4      M6A        North York    Lawrence Manor"
      ]
     },
     "execution_count": 15,
     "metadata": {},
     "output_type": "execute_result"
    }
   ],
   "source": [
    "Count = 0 #count to keep track of rows\n",
    "Iteration = dfTable.index #assigning iteration to a variable as the basis[dfTable.index] of alteration is to be manipulated\n",
    "\n",
    "for Rows in Iteration:\n",
    "    if dfTable.loc[Count,'Borough'].find('assigned') >= 0:\n",
    "        dfTable.drop(index = Count, inplace = True)\n",
    "    elif dfTable.loc[Count,'Neighbourhood'].find('assigned') >= 0:\n",
    "        dfTable.loc[Count,'Neighbourhood'] = dfTable.loc[Count,'Borough']\n",
    "    Count += 1\n",
    "\n",
    "#reset index for easy reference in the future \n",
    "dfTable.reset_index(drop = True, inplace = True)\n",
    "\n",
    "dfTable.head()"
   ]
  },
  {
   "cell_type": "code",
   "execution_count": 17,
   "metadata": {},
   "outputs": [
    {
     "data": {
      "text/plain": [
       "210"
      ]
     },
     "execution_count": 17,
     "metadata": {},
     "output_type": "execute_result"
    }
   ],
   "source": [
    "dfTable.shape[0]"
   ]
  },
  {
   "cell_type": "markdown",
   "metadata": {},
   "source": [
    "## Problem #2\n",
    "#### Once you are able to create the above dataframe, submit a link to the new Notebook on your Github repository.\n",
    "<br>\n",
    "<body>Answer: To address problem 2 the following procedures will be performed:\n",
    "    <ol>\n",
    "        <li>Use .csv provided with longitude and latitude</li>\n",
    "        <li>Combined .csv file with dfTable dataframe by assigning longitude and latitude to appropriate postcode</li>\n",
    "    </ol>\n",
    "</body>"
   ]
  },
  {
   "cell_type": "code",
   "execution_count": 23,
   "metadata": {},
   "outputs": [],
   "source": [
    "#Open csv file provided that is stored in local drive\n",
    "Geolocation = pd.read_csv('C:\\\\Users\\\\ragutaya\\\\Geospatial_Coordinates.csv')"
   ]
  },
  {
   "cell_type": "code",
   "execution_count": 24,
   "metadata": {},
   "outputs": [],
   "source": [
    "#Add new columns to dfTable dataframe\n",
    "dfTable['Latitude'] = ''\n",
    "dfTable['Longitude'] = ''"
   ]
  },
  {
   "cell_type": "code",
   "execution_count": 25,
   "metadata": {},
   "outputs": [
    {
     "data": {
      "text/html": [
       "<div>\n",
       "<style scoped>\n",
       "    .dataframe tbody tr th:only-of-type {\n",
       "        vertical-align: middle;\n",
       "    }\n",
       "\n",
       "    .dataframe tbody tr th {\n",
       "        vertical-align: top;\n",
       "    }\n",
       "\n",
       "    .dataframe thead th {\n",
       "        text-align: right;\n",
       "    }\n",
       "</style>\n",
       "<table border=\"1\" class=\"dataframe\">\n",
       "  <thead>\n",
       "    <tr style=\"text-align: right;\">\n",
       "      <th></th>\n",
       "      <th>Postcode</th>\n",
       "      <th>Borough</th>\n",
       "      <th>Neighbourhood</th>\n",
       "      <th>Latitude</th>\n",
       "      <th>Longitude</th>\n",
       "    </tr>\n",
       "  </thead>\n",
       "  <tbody>\n",
       "    <tr>\n",
       "      <th>0</th>\n",
       "      <td>M3A</td>\n",
       "      <td>North York</td>\n",
       "      <td>Parkwoods</td>\n",
       "      <td>43.7533</td>\n",
       "      <td>-79.3297</td>\n",
       "    </tr>\n",
       "    <tr>\n",
       "      <th>1</th>\n",
       "      <td>M4A</td>\n",
       "      <td>North York</td>\n",
       "      <td>Victoria Village</td>\n",
       "      <td>43.7259</td>\n",
       "      <td>-79.3156</td>\n",
       "    </tr>\n",
       "    <tr>\n",
       "      <th>2</th>\n",
       "      <td>M5A</td>\n",
       "      <td>Downtown Toronto</td>\n",
       "      <td>Harbourfront</td>\n",
       "      <td>43.6543</td>\n",
       "      <td>-79.3606</td>\n",
       "    </tr>\n",
       "    <tr>\n",
       "      <th>3</th>\n",
       "      <td>M6A</td>\n",
       "      <td>North York</td>\n",
       "      <td>Lawrence Heights</td>\n",
       "      <td>43.7185</td>\n",
       "      <td>-79.4648</td>\n",
       "    </tr>\n",
       "    <tr>\n",
       "      <th>4</th>\n",
       "      <td>M6A</td>\n",
       "      <td>North York</td>\n",
       "      <td>Lawrence Manor</td>\n",
       "      <td>43.7185</td>\n",
       "      <td>-79.4648</td>\n",
       "    </tr>\n",
       "  </tbody>\n",
       "</table>\n",
       "</div>"
      ],
      "text/plain": [
       "  Postcode           Borough     Neighbourhood Latitude Longitude\n",
       "0      M3A        North York         Parkwoods  43.7533  -79.3297\n",
       "1      M4A        North York  Victoria Village  43.7259  -79.3156\n",
       "2      M5A  Downtown Toronto      Harbourfront  43.6543  -79.3606\n",
       "3      M6A        North York  Lawrence Heights  43.7185  -79.4648\n",
       "4      M6A        North York    Lawrence Manor  43.7185  -79.4648"
      ]
     },
     "execution_count": 25,
     "metadata": {},
     "output_type": "execute_result"
    }
   ],
   "source": [
    "#match postcode with respective latitude and longitude\n",
    "iCount = 0 #counter for reference postcode\n",
    "mCount = 0 #counter for source of latitude and longitude information\n",
    "\n",
    "#index-match equivalent for python\n",
    "for Index in dfTable.index:\n",
    "    for Match in Geolocation.index:\n",
    "        if dfTable.loc[iCount,'Postcode'] == Geolocation.loc[mCount,'Postal Code']:\n",
    "            dfTable.loc[iCount,'Latitude'] = Geolocation.loc[mCount,'Latitude']\n",
    "            dfTable.loc[iCount,'Longitude'] = Geolocation.loc[mCount,'Longitude']\n",
    "        else:\n",
    "            ''\n",
    "        mCount += 1\n",
    "    \n",
    "    mCount = 0 #reset counter for matching\n",
    "    iCount += 1\n",
    "\n",
    "dfTable.head()"
   ]
  },
  {
   "cell_type": "markdown",
   "metadata": {},
   "source": [
    "## Problem #3\n",
    "#### Once you are happy with your analysis, submit a link to the new Notebook on your Github repository.\n",
    "<br>\n",
    "<body>Answer: To address problem 3 the following procedures will be performed:\n",
    "    <ol>\n",
    "        <li>Determined the longitude and latitude of Canada to create the map</li>\n",
    "        <li>Used for loop to assign longitude and latitude in the created map in step 1</li>\n",
    "    </ol>\n",
    "</body>"
   ]
  },
  {
   "cell_type": "code",
   "execution_count": 26,
   "metadata": {},
   "outputs": [
    {
     "data": {
      "text/html": [
       "<div style=\"width:100%;\"><div style=\"position:relative;width:100%;height:0;padding-bottom:60%;\"><iframe src=\"data:text/html;charset=utf-8;base64,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\" style=\"position:absolute;width:100%;height:100%;left:0;top:0;border:none !important;\" allowfullscreen webkitallowfullscreen mozallowfullscreen></iframe></div></div>"
      ],
      "text/plain": [
       "<folium.folium.Map at 0x2aafbe3ac88>"
      ]
     },
     "execution_count": 26,
     "metadata": {},
     "output_type": "execute_result"
    }
   ],
   "source": [
    "#Coordinates of Canada\n",
    "CALat = 43.761539\n",
    "CALng = -79.411079\n",
    "#Showing the map of Canada\n",
    "MapOfCanada = folium.Map(location = [CALat, CALng], zoom_start = 10)\n",
    "\n",
    "#Showing neighborhood of Toronto\n",
    "\n",
    "Count = 0\n",
    "for Neighbor in dfTable.Borough:\n",
    "    if dfTable.loc[Count,'Borough'].find('Toronto') >= 0:\n",
    "        folium.CircleMarker([dfTable.loc[Count,'Latitude'],dfTable.loc[Count,'Longitude']], radius = 1, \n",
    "                            tooltip = dfTable.loc[Count,'Neighbourhood'], \n",
    "                            fill = True, \n",
    "                            color = 'Blue', \n",
    "                            fill_color = 'Blue', \n",
    "                            fill_opacity = 0.6).add_to(MapOfCanada)\n",
    "    else:\n",
    "        ''\n",
    "    \n",
    "    Count += 1\n",
    "\n",
    "MapOfCanada"
   ]
  },
  {
   "cell_type": "code",
   "execution_count": null,
   "metadata": {},
   "outputs": [],
   "source": []
  }
 ],
 "metadata": {
  "kernelspec": {
   "display_name": "Python 3",
   "language": "python",
   "name": "python3"
  },
  "language_info": {
   "codemirror_mode": {
    "name": "ipython",
    "version": 3
   },
   "file_extension": ".py",
   "mimetype": "text/x-python",
   "name": "python",
   "nbconvert_exporter": "python",
   "pygments_lexer": "ipython3",
   "version": "3.7.3"
  }
 },
 "nbformat": 4,
 "nbformat_minor": 2
}
